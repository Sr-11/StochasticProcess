{
 "cells": [
  {
   "cell_type": "code",
   "execution_count": null,
   "id": "6b3ea6e5-e8b8-4930-a9a2-0451a0929761",
   "metadata": {},
   "outputs": [],
   "source": [
    "#好起来了\n",
    "#再处理另一个问题\n",
    "#突然有大新闻发生\n",
    "#跳跃扩散\n",
    "#我们拿什么判断跳跃项的存在？\n",
    "#答案是估计 σ^2/2θ\n",
    "#用 3σ 准则\n",
    "#于是，问题是，我们怎么求 σ̂ 和 θ̂"
   ]
  },
  {
   "cell_type": "code",
   "execution_count": null,
   "id": "652a0801-05ac-40f9-b62c-2284f98b9156",
   "metadata": {},
   "outputs": [],
   "source": [
    "#p(X|σ,θ) = √(2θ)/σ*φ(√(2θ)/σ*(X1-μ)) * 1/(σ√dt)*φ([dX/σ√dt]+[Θ/σ*(X-μ)*√dt])\n",
    "#p(X|σ,θ) = √(2θ)/σ^n * exp(-θ/σ²*(X1-μ)²) * exp(-[dX/σ√dt+Θ/σ*(X-μ)*√dt]²/2)\n",
    "#关于θ还是指数分布族，但关于σ不是\n",
    "#我们先抛掉μ，假设已经定成EX\n",
    "#p(X|σ,θ) = √θ/σ^n * exp( θ²/2σ²*T*DX + 1/2σ²*ΣdX²/dt ) \n",
    "#p(X|σ,θ) = g(T(X),σ,θ)*h(X)\n",
    "#T(X)=(DX,E(dX/dt)²)\n",
    "#下面找出来俩无偏估计（现在不知道完不完备）\n",
    "#算 𝔼(DX) 和 𝔼(dX/dt)²\n",
    "#𝔼(DX)=σ^2/2θ"
   ]
  },
  {
   "cell_type": "code",
   "execution_count": null,
   "id": "16e31b8c-aca7-4323-93d3-e8703218eef3",
   "metadata": {},
   "outputs": [],
   "source": [
    "#dX/dt=-θX+σdWt/dt\n",
    "#(dX/dt)²=θ²X²+σ²(dWt/dt)²-2θσX(dWt/dt)\n",
    "#𝔼(dX/dt)²=θ²DX+σ²/dt\n",
    "#𝔼(dX/dt)²=θσ^2/2+σ²/dt\n",
    "#𝔼dX²/dt=σ²"
   ]
  },
  {
   "cell_type": "code",
   "execution_count": 37,
   "id": "bf0bcda1-614b-4c1e-bc22-06a0ce544c6e",
   "metadata": {},
   "outputs": [
    {
     "name": "stdout",
     "output_type": "stream",
     "text": [
      "μ̂ = 100.5118971092828\n",
      "σ̂ = 1.0106990598434265\n",
      "θ̂ = 1.5243584702953328\n"
     ]
    },
    {
     "data": {
      "text/plain": [
       "1.7365390923778419"
      ]
     },
     "execution_count": 37,
     "metadata": {},
     "output_type": "execute_result"
    }
   ],
   "source": [
    "using DifferentialEquations\n",
    "using Plots\n",
    "using Statistics\n",
    "global θ=1.0\n",
    "global σ=1.0\n",
    "global μ=100.0\n",
    "global dt=0.01\n",
    "global T0=0.0\n",
    "global T=10.0\n",
    "\n",
    "X=OrnsteinUhlenbeckProcess(θ,μ,σ,T0,μ)\n",
    "X.dt=dt\n",
    "calculate_step!(X,dt,nothing,nothing)\n",
    "for t in dt:dt:T\n",
    "    accept_step!(X,dt,nothing,nothing)\n",
    "end\n",
    "plot(X.t,X.u,label=\"OU\")\n",
    "dif=X.u[2:end]-X.u[1:end-1]\n",
    "EdX2dt=mean(dif.^2/dt)\n",
    "EDX=var(X.u)\n",
    "μ̂=mean(X.u)\n",
    "σ̂=sqrt(EdX2dt)\n",
    "θ̂=EdX2dt/EDX/2\n",
    "@show μ̂\n",
    "@show σ̂\n",
    "@show θ̂\n",
    "three_sigma=3*sqrt(EDX)\n",
    "#一旦触发3σ，马上重置窗口起点\n",
    "#这是假设检验了\n",
    "#但假设检验本身就有一个常数，玄学是不可避免的\n",
    "#然后用小N的方法快速重新估计μ̂,σ̂,θ̂"
   ]
  },
  {
   "cell_type": "code",
   "execution_count": null,
   "id": "dc89004c-1ac8-4a33-ac64-b3d544596c7f",
   "metadata": {},
   "outputs": [],
   "source": [
    "#可以看到，θ̂倾向于变大，是有偏的"
   ]
  }
 ],
 "metadata": {
  "kernelspec": {
   "display_name": "Julia 1.7.3",
   "language": "julia",
   "name": "julia-1.7"
  },
  "language_info": {
   "file_extension": ".jl",
   "mimetype": "application/julia",
   "name": "julia",
   "version": "1.7.3"
  }
 },
 "nbformat": 4,
 "nbformat_minor": 5
}
